{
 "cells": [
  {
   "attachments": {},
   "cell_type": "markdown",
   "metadata": {},
   "source": [
    "# Data Prep for RNN"
   ]
  },
  {
   "cell_type": "code",
   "execution_count": 126,
   "metadata": {},
   "outputs": [],
   "source": [
    "import pandas as pd\n",
    "import numpy as np"
   ]
  },
  {
   "cell_type": "code",
   "execution_count": 127,
   "metadata": {},
   "outputs": [],
   "source": [
    "import tensorflow as tf\n",
    "from tensorflow import keras\n",
    "from sklearn.metrics import mean_squared_error\n",
    "import os\n",
    "\n",
    "# to make this notebook's output stable across runs\n",
    "np.random.seed(42)\n",
    "\n",
    "# To plot pretty figures\n",
    "%matplotlib inline\n",
    "import matplotlib as mpl\n",
    "import matplotlib.pyplot as plt\n",
    "mpl.rc('axes', labelsize=14)\n",
    "mpl.rc('xtick', labelsize=12)\n",
    "mpl.rc('ytick', labelsize=12)"
   ]
  },
  {
   "attachments": {},
   "cell_type": "markdown",
   "metadata": {},
   "source": [
    "## load data"
   ]
  },
  {
   "cell_type": "code",
   "execution_count": 128,
   "metadata": {},
   "outputs": [
    {
     "data": {
      "text/html": [
       "<div>\n",
       "<style scoped>\n",
       "    .dataframe tbody tr th:only-of-type {\n",
       "        vertical-align: middle;\n",
       "    }\n",
       "\n",
       "    .dataframe tbody tr th {\n",
       "        vertical-align: top;\n",
       "    }\n",
       "\n",
       "    .dataframe thead th {\n",
       "        text-align: right;\n",
       "    }\n",
       "</style>\n",
       "<table border=\"1\" class=\"dataframe\">\n",
       "  <thead>\n",
       "    <tr style=\"text-align: right;\">\n",
       "      <th></th>\n",
       "      <th>Unnamed: 0</th>\n",
       "      <th>date</th>\n",
       "      <th>sentiment</th>\n",
       "      <th>open</th>\n",
       "      <th>high</th>\n",
       "      <th>low</th>\n",
       "      <th>close</th>\n",
       "      <th>polarity</th>\n",
       "    </tr>\n",
       "  </thead>\n",
       "  <tbody>\n",
       "    <tr>\n",
       "      <th>99</th>\n",
       "      <td>711</td>\n",
       "      <td>2022-01-04</td>\n",
       "      <td>2</td>\n",
       "      <td>396.516663</td>\n",
       "      <td>402.666656</td>\n",
       "      <td>374.350006</td>\n",
       "      <td>383.196655</td>\n",
       "      <td>down</td>\n",
       "    </tr>\n",
       "    <tr>\n",
       "      <th>98</th>\n",
       "      <td>710</td>\n",
       "      <td>2022-01-04</td>\n",
       "      <td>0</td>\n",
       "      <td>396.516663</td>\n",
       "      <td>402.666656</td>\n",
       "      <td>374.350006</td>\n",
       "      <td>383.196655</td>\n",
       "      <td>down</td>\n",
       "    </tr>\n",
       "    <tr>\n",
       "      <th>97</th>\n",
       "      <td>708</td>\n",
       "      <td>2022-01-04</td>\n",
       "      <td>1</td>\n",
       "      <td>396.516663</td>\n",
       "      <td>402.666656</td>\n",
       "      <td>374.350006</td>\n",
       "      <td>383.196655</td>\n",
       "      <td>down</td>\n",
       "    </tr>\n",
       "    <tr>\n",
       "      <th>96</th>\n",
       "      <td>701</td>\n",
       "      <td>2022-01-05</td>\n",
       "      <td>2</td>\n",
       "      <td>382.216675</td>\n",
       "      <td>390.113342</td>\n",
       "      <td>360.336670</td>\n",
       "      <td>362.706665</td>\n",
       "      <td>down</td>\n",
       "    </tr>\n",
       "    <tr>\n",
       "      <th>95</th>\n",
       "      <td>700</td>\n",
       "      <td>2022-01-05</td>\n",
       "      <td>1</td>\n",
       "      <td>382.216675</td>\n",
       "      <td>390.113342</td>\n",
       "      <td>360.336670</td>\n",
       "      <td>362.706665</td>\n",
       "      <td>down</td>\n",
       "    </tr>\n",
       "    <tr>\n",
       "      <th>...</th>\n",
       "      <td>...</td>\n",
       "      <td>...</td>\n",
       "      <td>...</td>\n",
       "      <td>...</td>\n",
       "      <td>...</td>\n",
       "      <td>...</td>\n",
       "      <td>...</td>\n",
       "      <td>...</td>\n",
       "    </tr>\n",
       "    <tr>\n",
       "      <th>4</th>\n",
       "      <td>13</td>\n",
       "      <td>2022-03-03</td>\n",
       "      <td>1</td>\n",
       "      <td>292.923340</td>\n",
       "      <td>295.480011</td>\n",
       "      <td>277.533325</td>\n",
       "      <td>279.763336</td>\n",
       "      <td>down</td>\n",
       "    </tr>\n",
       "    <tr>\n",
       "      <th>3</th>\n",
       "      <td>12</td>\n",
       "      <td>2022-03-03</td>\n",
       "      <td>0</td>\n",
       "      <td>292.923340</td>\n",
       "      <td>295.480011</td>\n",
       "      <td>277.533325</td>\n",
       "      <td>279.763336</td>\n",
       "      <td>down</td>\n",
       "    </tr>\n",
       "    <tr>\n",
       "      <th>2</th>\n",
       "      <td>4</td>\n",
       "      <td>2022-03-04</td>\n",
       "      <td>2</td>\n",
       "      <td>283.033325</td>\n",
       "      <td>285.216675</td>\n",
       "      <td>275.053345</td>\n",
       "      <td>279.429993</td>\n",
       "      <td>down</td>\n",
       "    </tr>\n",
       "    <tr>\n",
       "      <th>1</th>\n",
       "      <td>1</td>\n",
       "      <td>2022-03-04</td>\n",
       "      <td>1</td>\n",
       "      <td>283.033325</td>\n",
       "      <td>285.216675</td>\n",
       "      <td>275.053345</td>\n",
       "      <td>279.429993</td>\n",
       "      <td>down</td>\n",
       "    </tr>\n",
       "    <tr>\n",
       "      <th>0</th>\n",
       "      <td>0</td>\n",
       "      <td>2022-03-04</td>\n",
       "      <td>0</td>\n",
       "      <td>283.033325</td>\n",
       "      <td>285.216675</td>\n",
       "      <td>275.053345</td>\n",
       "      <td>279.429993</td>\n",
       "      <td>down</td>\n",
       "    </tr>\n",
       "  </tbody>\n",
       "</table>\n",
       "<p>100 rows × 8 columns</p>\n",
       "</div>"
      ],
      "text/plain": [
       "    Unnamed: 0        date  sentiment        open        high         low  \\\n",
       "99         711  2022-01-04          2  396.516663  402.666656  374.350006   \n",
       "98         710  2022-01-04          0  396.516663  402.666656  374.350006   \n",
       "97         708  2022-01-04          1  396.516663  402.666656  374.350006   \n",
       "96         701  2022-01-05          2  382.216675  390.113342  360.336670   \n",
       "95         700  2022-01-05          1  382.216675  390.113342  360.336670   \n",
       "..         ...         ...        ...         ...         ...         ...   \n",
       "4           13  2022-03-03          1  292.923340  295.480011  277.533325   \n",
       "3           12  2022-03-03          0  292.923340  295.480011  277.533325   \n",
       "2            4  2022-03-04          2  283.033325  285.216675  275.053345   \n",
       "1            1  2022-03-04          1  283.033325  285.216675  275.053345   \n",
       "0            0  2022-03-04          0  283.033325  285.216675  275.053345   \n",
       "\n",
       "         close polarity  \n",
       "99  383.196655     down  \n",
       "98  383.196655     down  \n",
       "97  383.196655     down  \n",
       "96  362.706665     down  \n",
       "95  362.706665     down  \n",
       "..         ...      ...  \n",
       "4   279.763336     down  \n",
       "3   279.763336     down  \n",
       "2   279.429993     down  \n",
       "1   279.429993     down  \n",
       "0   279.429993     down  \n",
       "\n",
       "[100 rows x 8 columns]"
      ]
     },
     "execution_count": 128,
     "metadata": {},
     "output_type": "execute_result"
    }
   ],
   "source": [
    "md = pd.read_csv(\"../datasets/model_data.csv\") \n",
    "md = md.sort_values(by = 'date')\n",
    "md"
   ]
  },
  {
   "cell_type": "code",
   "execution_count": 129,
   "metadata": {},
   "outputs": [],
   "source": [
    "from sklearn.preprocessing import LabelEncoder\n",
    "\n",
    "labelencoder = LabelEncoder()\n",
    "md['polarity'] = labelencoder.fit_transform(md['polarity'])"
   ]
  },
  {
   "attachments": {},
   "cell_type": "markdown",
   "metadata": {},
   "source": [
    "## Drop unwanted columns"
   ]
  },
  {
   "cell_type": "code",
   "execution_count": 130,
   "metadata": {},
   "outputs": [
    {
     "data": {
      "text/html": [
       "<div>\n",
       "<style scoped>\n",
       "    .dataframe tbody tr th:only-of-type {\n",
       "        vertical-align: middle;\n",
       "    }\n",
       "\n",
       "    .dataframe tbody tr th {\n",
       "        vertical-align: top;\n",
       "    }\n",
       "\n",
       "    .dataframe thead th {\n",
       "        text-align: right;\n",
       "    }\n",
       "</style>\n",
       "<table border=\"1\" class=\"dataframe\">\n",
       "  <thead>\n",
       "    <tr style=\"text-align: right;\">\n",
       "      <th></th>\n",
       "      <th>sentiment</th>\n",
       "      <th>open</th>\n",
       "      <th>high</th>\n",
       "      <th>low</th>\n",
       "      <th>close</th>\n",
       "      <th>polarity</th>\n",
       "    </tr>\n",
       "  </thead>\n",
       "  <tbody>\n",
       "    <tr>\n",
       "      <th>99</th>\n",
       "      <td>2</td>\n",
       "      <td>396.516663</td>\n",
       "      <td>402.666656</td>\n",
       "      <td>374.350006</td>\n",
       "      <td>383.196655</td>\n",
       "      <td>0</td>\n",
       "    </tr>\n",
       "    <tr>\n",
       "      <th>98</th>\n",
       "      <td>0</td>\n",
       "      <td>396.516663</td>\n",
       "      <td>402.666656</td>\n",
       "      <td>374.350006</td>\n",
       "      <td>383.196655</td>\n",
       "      <td>0</td>\n",
       "    </tr>\n",
       "    <tr>\n",
       "      <th>97</th>\n",
       "      <td>1</td>\n",
       "      <td>396.516663</td>\n",
       "      <td>402.666656</td>\n",
       "      <td>374.350006</td>\n",
       "      <td>383.196655</td>\n",
       "      <td>0</td>\n",
       "    </tr>\n",
       "    <tr>\n",
       "      <th>96</th>\n",
       "      <td>2</td>\n",
       "      <td>382.216675</td>\n",
       "      <td>390.113342</td>\n",
       "      <td>360.336670</td>\n",
       "      <td>362.706665</td>\n",
       "      <td>0</td>\n",
       "    </tr>\n",
       "    <tr>\n",
       "      <th>95</th>\n",
       "      <td>1</td>\n",
       "      <td>382.216675</td>\n",
       "      <td>390.113342</td>\n",
       "      <td>360.336670</td>\n",
       "      <td>362.706665</td>\n",
       "      <td>0</td>\n",
       "    </tr>\n",
       "  </tbody>\n",
       "</table>\n",
       "</div>"
      ],
      "text/plain": [
       "    sentiment        open        high         low       close  polarity\n",
       "99          2  396.516663  402.666656  374.350006  383.196655         0\n",
       "98          0  396.516663  402.666656  374.350006  383.196655         0\n",
       "97          1  396.516663  402.666656  374.350006  383.196655         0\n",
       "96          2  382.216675  390.113342  360.336670  362.706665         0\n",
       "95          1  382.216675  390.113342  360.336670  362.706665         0"
      ]
     },
     "execution_count": 130,
     "metadata": {},
     "output_type": "execute_result"
    }
   ],
   "source": [
    "md = md.drop(['Unnamed: 0','date'],axis=1)\n",
    "md.head()"
   ]
  },
  {
   "attachments": {},
   "cell_type": "markdown",
   "metadata": {},
   "source": [
    "## Dataframe to array"
   ]
  },
  {
   "cell_type": "code",
   "execution_count": 131,
   "metadata": {},
   "outputs": [
    {
     "data": {
      "text/plain": [
       "array([[  2.      , 396.516663, 402.666656, 374.350006, 383.196655,\n",
       "          0.      ],\n",
       "       [  0.      , 396.516663, 402.666656, 374.350006, 383.196655,\n",
       "          0.      ],\n",
       "       [  1.      , 396.516663, 402.666656, 374.350006, 383.196655,\n",
       "          0.      ],\n",
       "       [  2.      , 382.216675, 390.113342, 360.33667 , 362.706665,\n",
       "          0.      ],\n",
       "       [  1.      , 382.216675, 390.113342, 360.33667 , 362.706665,\n",
       "          0.      ],\n",
       "       [  1.      , 359.      , 362.666656, 340.166656, 354.899994,\n",
       "          0.      ],\n",
       "       [  2.      , 359.      , 362.666656, 340.166656, 354.899994,\n",
       "          0.      ],\n",
       "       [  2.      , 360.123322, 360.309998, 336.666656, 342.320007,\n",
       "          0.      ],\n",
       "       [  1.      , 360.123322, 360.309998, 336.666656, 342.320007,\n",
       "          0.      ],\n",
       "       [  1.      , 333.333344, 353.033325, 326.666656, 352.706665,\n",
       "          1.      ]])"
      ]
     },
     "execution_count": 131,
     "metadata": {},
     "output_type": "execute_result"
    }
   ],
   "source": [
    "df = md.to_numpy()\n",
    "df[:10]"
   ]
  },
  {
   "cell_type": "code",
   "execution_count": 132,
   "metadata": {},
   "outputs": [
    {
     "data": {
      "text/plain": [
       "(100, 6)"
      ]
     },
     "execution_count": 132,
     "metadata": {},
     "output_type": "execute_result"
    }
   ],
   "source": [
    "df.shape"
   ]
  },
  {
   "cell_type": "code",
   "execution_count": 133,
   "metadata": {},
   "outputs": [
    {
     "data": {
      "text/plain": [
       "array([[  2.      , 396.516663, 402.666656, 374.350006, 383.196655,\n",
       "          0.      ],\n",
       "       [  0.      , 396.516663, 402.666656, 374.350006, 383.196655,\n",
       "          0.      ],\n",
       "       [  1.      , 396.516663, 402.666656, 374.350006, 383.196655,\n",
       "          0.      ]])"
      ]
     },
     "execution_count": 133,
     "metadata": {},
     "output_type": "execute_result"
    }
   ],
   "source": [
    "df[0:3,:]"
   ]
  },
  {
   "cell_type": "code",
   "execution_count": 134,
   "metadata": {},
   "outputs": [],
   "source": [
    "def create_sequences(data, seq_length):\n",
    "    obs = []\n",
    "    print(obs)    \n",
    "    for i in range(len(data)-seq_length-1):\n",
    "        obs.append(data[i:(i+seq_length)])\n",
    "    return np.array(obs)"
   ]
  },
  {
   "cell_type": "code",
   "execution_count": 135,
   "metadata": {},
   "outputs": [
    {
     "name": "stdout",
     "output_type": "stream",
     "text": [
      "[]\n"
     ]
    },
    {
     "data": {
      "text/plain": [
       "array([[[  2.      , 396.516663, 402.666656, 374.350006, 383.196655,\n",
       "           0.      ],\n",
       "        [  0.      , 396.516663, 402.666656, 374.350006, 383.196655,\n",
       "           0.      ]],\n",
       "\n",
       "       [[  0.      , 396.516663, 402.666656, 374.350006, 383.196655,\n",
       "           0.      ],\n",
       "        [  1.      , 396.516663, 402.666656, 374.350006, 383.196655,\n",
       "           0.      ]],\n",
       "\n",
       "       [[  1.      , 396.516663, 402.666656, 374.350006, 383.196655,\n",
       "           0.      ],\n",
       "        [  2.      , 382.216675, 390.113342, 360.33667 , 362.706665,\n",
       "           0.      ]],\n",
       "\n",
       "       ...,\n",
       "\n",
       "       [[  2.      , 292.92334 , 295.480011, 277.533325, 279.763336,\n",
       "           0.      ],\n",
       "        [  1.      , 292.92334 , 295.480011, 277.533325, 279.763336,\n",
       "           0.      ]],\n",
       "\n",
       "       [[  1.      , 292.92334 , 295.480011, 277.533325, 279.763336,\n",
       "           0.      ],\n",
       "        [  0.      , 292.92334 , 295.480011, 277.533325, 279.763336,\n",
       "           0.      ]],\n",
       "\n",
       "       [[  0.      , 292.92334 , 295.480011, 277.533325, 279.763336,\n",
       "           0.      ],\n",
       "        [  2.      , 283.033325, 285.216675, 275.053345, 279.429993,\n",
       "           0.      ]]])"
      ]
     },
     "execution_count": 135,
     "metadata": {},
     "output_type": "execute_result"
    }
   ],
   "source": [
    "RNN_input = create_sequences(df, 2)\n",
    "RNN_input"
   ]
  },
  {
   "cell_type": "code",
   "execution_count": 136,
   "metadata": {},
   "outputs": [
    {
     "data": {
      "text/plain": [
       "array([0., 0., 0., 0., 0., 0., 0., 0., 1., 1.])"
      ]
     },
     "execution_count": 136,
     "metadata": {},
     "output_type": "execute_result"
    }
   ],
   "source": [
    "y = RNN_input[:,-1,5] \n",
    "y[:10]"
   ]
  },
  {
   "cell_type": "code",
   "execution_count": 137,
   "metadata": {},
   "outputs": [
    {
     "data": {
      "text/plain": [
       "array([[[  2.      , 396.516663, 402.666656, 374.350006, 383.196655,\n",
       "           0.      ]],\n",
       "\n",
       "       [[  0.      , 396.516663, 402.666656, 374.350006, 383.196655,\n",
       "           0.      ]],\n",
       "\n",
       "       [[  1.      , 396.516663, 402.666656, 374.350006, 383.196655,\n",
       "           0.      ]],\n",
       "\n",
       "       [[  2.      , 382.216675, 390.113342, 360.33667 , 362.706665,\n",
       "           0.      ]],\n",
       "\n",
       "       [[  1.      , 382.216675, 390.113342, 360.33667 , 362.706665,\n",
       "           0.      ]],\n",
       "\n",
       "       [[  1.      , 359.      , 362.666656, 340.166656, 354.899994,\n",
       "           0.      ]],\n",
       "\n",
       "       [[  2.      , 359.      , 362.666656, 340.166656, 354.899994,\n",
       "           0.      ]],\n",
       "\n",
       "       [[  2.      , 360.123322, 360.309998, 336.666656, 342.320007,\n",
       "           0.      ]],\n",
       "\n",
       "       [[  1.      , 360.123322, 360.309998, 336.666656, 342.320007,\n",
       "           0.      ]],\n",
       "\n",
       "       [[  1.      , 333.333344, 353.033325, 326.666656, 352.706665,\n",
       "           1.      ]]])"
      ]
     },
     "execution_count": 137,
     "metadata": {},
     "output_type": "execute_result"
    }
   ],
   "source": [
    "X = RNN_input[:,0:1,0:6] \n",
    "X[:10]"
   ]
  },
  {
   "attachments": {},
   "cell_type": "markdown",
   "metadata": {},
   "source": [
    "## split data"
   ]
  },
  {
   "cell_type": "code",
   "execution_count": 138,
   "metadata": {},
   "outputs": [],
   "source": [
    "split_point = int(len(X)*0.7)\n",
    "X_train, X_test = X[:split_point], X[split_point:]\n",
    "y_train, y_test = y[:split_point], y[split_point:]"
   ]
  },
  {
   "cell_type": "code",
   "execution_count": 139,
   "metadata": {},
   "outputs": [
    {
     "data": {
      "text/plain": [
       "array([[[  2.      , 396.516663, 402.666656, 374.350006, 383.196655,\n",
       "           0.      ]],\n",
       "\n",
       "       [[  0.      , 396.516663, 402.666656, 374.350006, 383.196655,\n",
       "           0.      ]],\n",
       "\n",
       "       [[  1.      , 396.516663, 402.666656, 374.350006, 383.196655,\n",
       "           0.      ]],\n",
       "\n",
       "       [[  2.      , 382.216675, 390.113342, 360.33667 , 362.706665,\n",
       "           0.      ]],\n",
       "\n",
       "       [[  1.      , 382.216675, 390.113342, 360.33667 , 362.706665,\n",
       "           0.      ]],\n",
       "\n",
       "       [[  1.      , 359.      , 362.666656, 340.166656, 354.899994,\n",
       "           0.      ]],\n",
       "\n",
       "       [[  2.      , 359.      , 362.666656, 340.166656, 354.899994,\n",
       "           0.      ]],\n",
       "\n",
       "       [[  2.      , 360.123322, 360.309998, 336.666656, 342.320007,\n",
       "           0.      ]],\n",
       "\n",
       "       [[  1.      , 360.123322, 360.309998, 336.666656, 342.320007,\n",
       "           0.      ]],\n",
       "\n",
       "       [[  1.      , 333.333344, 353.033325, 326.666656, 352.706665,\n",
       "           1.      ]]])"
      ]
     },
     "execution_count": 139,
     "metadata": {},
     "output_type": "execute_result"
    }
   ],
   "source": [
    "X_train[:10]"
   ]
  },
  {
   "cell_type": "code",
   "execution_count": 140,
   "metadata": {},
   "outputs": [
    {
     "data": {
      "text/plain": [
       "array([[0.],\n",
       "       [0.],\n",
       "       [0.],\n",
       "       [0.],\n",
       "       [0.],\n",
       "       [0.],\n",
       "       [0.],\n",
       "       [0.],\n",
       "       [1.],\n",
       "       [1.]])"
      ]
     },
     "execution_count": 140,
     "metadata": {},
     "output_type": "execute_result"
    }
   ],
   "source": [
    "y_train = y_train.reshape(-1,1)\n",
    "y_train[:10]"
   ]
  },
  {
   "cell_type": "code",
   "execution_count": 141,
   "metadata": {},
   "outputs": [],
   "source": [
    "y_test = y_test.reshape(-1,1)"
   ]
  },
  {
   "cell_type": "code",
   "execution_count": 142,
   "metadata": {},
   "outputs": [
    {
     "name": "stdout",
     "output_type": "stream",
     "text": [
      "(67, 1, 6)\n",
      "(30, 1, 6)\n",
      "(67, 1)\n",
      "(30, 1)\n"
     ]
    }
   ],
   "source": [
    "print(X_train.shape)\n",
    "print(X_test.shape)\n",
    "print(y_train.shape)\n",
    "print(y_test.shape)"
   ]
  },
  {
   "attachments": {},
   "cell_type": "markdown",
   "metadata": {},
   "source": [
    "## Scale the data"
   ]
  },
  {
   "attachments": {},
   "cell_type": "markdown",
   "metadata": {},
   "source": [
    "## Fit the data to a Recurrent neural network"
   ]
  },
  {
   "attachments": {},
   "cell_type": "markdown",
   "metadata": {},
   "source": [
    "LSTM"
   ]
  },
  {
   "cell_type": "code",
   "execution_count": 143,
   "metadata": {},
   "outputs": [],
   "source": [
    "from keras.models import Sequential\n",
    "from keras.layers import LSTM, Dense, Embedding\n",
    "\n",
    "lstm = Sequential()\n",
    "lstm.add(LSTM(units=128))\n",
    "lstm.add(Dense(units=1, activation='sigmoid'))"
   ]
  },
  {
   "cell_type": "code",
   "execution_count": 144,
   "metadata": {},
   "outputs": [],
   "source": [
    "np.random.seed(42)\n",
    "tf.random.set_seed(42)\n",
    "\n",
    "lstm.compile(optimizer='adam', loss='binary_crossentropy', metrics=['accuracy'])"
   ]
  },
  {
   "cell_type": "code",
   "execution_count": 145,
   "metadata": {},
   "outputs": [
    {
     "name": "stdout",
     "output_type": "stream",
     "text": [
      "Epoch 1/100\n",
      "3/3 [==============================] - 2s 215ms/step - loss: 0.6885 - accuracy: 0.5672 - val_loss: 0.6493 - val_accuracy: 0.6000\n",
      "Epoch 2/100\n",
      "3/3 [==============================] - 0s 17ms/step - loss: 0.6604 - accuracy: 0.6119 - val_loss: 0.6495 - val_accuracy: 0.6000\n",
      "Epoch 3/100\n",
      "3/3 [==============================] - 0s 14ms/step - loss: 0.6668 - accuracy: 0.5672 - val_loss: 0.6385 - val_accuracy: 0.6000\n",
      "Epoch 4/100\n",
      "3/3 [==============================] - 0s 14ms/step - loss: 0.6620 - accuracy: 0.5672 - val_loss: 0.6310 - val_accuracy: 0.6000\n",
      "Epoch 5/100\n",
      "3/3 [==============================] - 0s 15ms/step - loss: 0.6401 - accuracy: 0.6418 - val_loss: 0.6398 - val_accuracy: 0.7667\n",
      "Epoch 6/100\n",
      "3/3 [==============================] - 0s 14ms/step - loss: 0.6608 - accuracy: 0.7463 - val_loss: 0.6524 - val_accuracy: 0.8333\n",
      "Epoch 7/100\n",
      "3/3 [==============================] - 0s 14ms/step - loss: 0.6611 - accuracy: 0.7015 - val_loss: 0.6349 - val_accuracy: 0.6667\n",
      "Epoch 8/100\n",
      "3/3 [==============================] - 0s 14ms/step - loss: 0.6440 - accuracy: 0.5970 - val_loss: 0.6278 - val_accuracy: 0.6667\n",
      "Epoch 9/100\n",
      "3/3 [==============================] - 0s 14ms/step - loss: 0.6411 - accuracy: 0.7612 - val_loss: 0.6442 - val_accuracy: 0.8333\n",
      "Epoch 10/100\n",
      "3/3 [==============================] - 0s 14ms/step - loss: 0.6624 - accuracy: 0.5522 - val_loss: 0.6605 - val_accuracy: 0.6667\n",
      "Epoch 11/100\n",
      "3/3 [==============================] - 0s 14ms/step - loss: 0.6668 - accuracy: 0.5672 - val_loss: 0.6402 - val_accuracy: 0.8333\n",
      "Epoch 12/100\n",
      "3/3 [==============================] - 0s 14ms/step - loss: 0.6478 - accuracy: 0.6866 - val_loss: 0.6363 - val_accuracy: 0.6667\n",
      "Epoch 13/100\n",
      "3/3 [==============================] - 0s 14ms/step - loss: 0.6439 - accuracy: 0.7313 - val_loss: 0.6421 - val_accuracy: 0.6000\n",
      "Epoch 14/100\n",
      "3/3 [==============================] - 0s 14ms/step - loss: 0.6510 - accuracy: 0.6269 - val_loss: 0.6416 - val_accuracy: 0.6000\n",
      "Epoch 15/100\n",
      "3/3 [==============================] - 0s 14ms/step - loss: 0.6476 - accuracy: 0.6269 - val_loss: 0.6396 - val_accuracy: 0.6333\n",
      "Epoch 16/100\n",
      "3/3 [==============================] - 0s 15ms/step - loss: 0.6413 - accuracy: 0.7164 - val_loss: 0.6544 - val_accuracy: 0.6667\n",
      "Epoch 17/100\n",
      "3/3 [==============================] - 0s 14ms/step - loss: 0.6785 - accuracy: 0.5522 - val_loss: 0.6517 - val_accuracy: 0.7333\n",
      "Epoch 18/100\n",
      "3/3 [==============================] - 0s 14ms/step - loss: 0.6460 - accuracy: 0.6716 - val_loss: 0.6465 - val_accuracy: 0.6000\n",
      "Epoch 19/100\n",
      "3/3 [==============================] - 0s 15ms/step - loss: 0.6552 - accuracy: 0.5970 - val_loss: 0.6528 - val_accuracy: 0.6000\n",
      "Epoch 20/100\n",
      "3/3 [==============================] - 0s 14ms/step - loss: 0.6649 - accuracy: 0.5672 - val_loss: 0.6436 - val_accuracy: 0.6000\n",
      "Epoch 21/100\n",
      "3/3 [==============================] - 0s 14ms/step - loss: 0.6567 - accuracy: 0.5821 - val_loss: 0.6364 - val_accuracy: 0.6000\n",
      "Epoch 22/100\n",
      "3/3 [==============================] - 0s 15ms/step - loss: 0.6514 - accuracy: 0.5821 - val_loss: 0.6322 - val_accuracy: 0.6000\n",
      "Epoch 23/100\n",
      "3/3 [==============================] - 0s 16ms/step - loss: 0.6467 - accuracy: 0.6269 - val_loss: 0.6324 - val_accuracy: 0.6667\n",
      "Epoch 24/100\n",
      "3/3 [==============================] - 0s 16ms/step - loss: 0.6457 - accuracy: 0.7612 - val_loss: 0.6286 - val_accuracy: 0.6667\n",
      "Epoch 25/100\n",
      "3/3 [==============================] - 0s 16ms/step - loss: 0.6366 - accuracy: 0.7015 - val_loss: 0.6293 - val_accuracy: 0.6000\n",
      "Epoch 26/100\n",
      "3/3 [==============================] - 0s 16ms/step - loss: 0.6412 - accuracy: 0.6269 - val_loss: 0.6268 - val_accuracy: 0.6000\n",
      "Epoch 27/100\n",
      "3/3 [==============================] - 0s 15ms/step - loss: 0.6426 - accuracy: 0.6119 - val_loss: 0.6479 - val_accuracy: 0.8000\n",
      "Epoch 28/100\n",
      "3/3 [==============================] - 0s 15ms/step - loss: 0.6557 - accuracy: 0.7612 - val_loss: 0.6585 - val_accuracy: 0.7333\n",
      "Epoch 29/100\n",
      "3/3 [==============================] - 0s 16ms/step - loss: 0.6653 - accuracy: 0.5821 - val_loss: 0.6660 - val_accuracy: 0.5667\n",
      "Epoch 30/100\n",
      "3/3 [==============================] - 0s 16ms/step - loss: 0.6731 - accuracy: 0.5821 - val_loss: 0.6566 - val_accuracy: 0.7333\n",
      "Epoch 31/100\n",
      "3/3 [==============================] - 0s 16ms/step - loss: 0.6629 - accuracy: 0.6716 - val_loss: 0.6485 - val_accuracy: 0.6667\n",
      "Epoch 32/100\n",
      "3/3 [==============================] - 0s 15ms/step - loss: 0.6539 - accuracy: 0.6716 - val_loss: 0.6496 - val_accuracy: 0.6000\n",
      "Epoch 33/100\n",
      "3/3 [==============================] - 0s 16ms/step - loss: 0.6536 - accuracy: 0.6269 - val_loss: 0.6498 - val_accuracy: 0.8000\n",
      "Epoch 34/100\n",
      "3/3 [==============================] - 0s 15ms/step - loss: 0.6577 - accuracy: 0.6866 - val_loss: 0.6624 - val_accuracy: 0.6667\n",
      "Epoch 35/100\n",
      "3/3 [==============================] - 0s 16ms/step - loss: 0.6662 - accuracy: 0.5821 - val_loss: 0.6572 - val_accuracy: 0.7333\n",
      "Epoch 36/100\n",
      "3/3 [==============================] - 0s 15ms/step - loss: 0.6612 - accuracy: 0.5821 - val_loss: 0.6672 - val_accuracy: 0.5667\n",
      "Epoch 37/100\n",
      "3/3 [==============================] - 0s 16ms/step - loss: 0.6769 - accuracy: 0.5373 - val_loss: 0.6705 - val_accuracy: 0.4667\n",
      "Epoch 38/100\n",
      "3/3 [==============================] - 0s 16ms/step - loss: 0.6727 - accuracy: 0.5373 - val_loss: 0.6530 - val_accuracy: 0.8333\n",
      "Epoch 39/100\n",
      "3/3 [==============================] - 0s 16ms/step - loss: 0.6557 - accuracy: 0.6716 - val_loss: 0.6503 - val_accuracy: 0.8000\n",
      "Epoch 40/100\n",
      "3/3 [==============================] - 0s 16ms/step - loss: 0.6532 - accuracy: 0.7761 - val_loss: 0.6470 - val_accuracy: 0.8000\n",
      "Epoch 41/100\n",
      "3/3 [==============================] - 0s 16ms/step - loss: 0.6511 - accuracy: 0.7761 - val_loss: 0.6467 - val_accuracy: 0.8000\n",
      "Epoch 42/100\n",
      "3/3 [==============================] - 0s 16ms/step - loss: 0.6533 - accuracy: 0.6567 - val_loss: 0.6460 - val_accuracy: 0.8000\n",
      "Epoch 43/100\n",
      "3/3 [==============================] - 0s 15ms/step - loss: 0.6514 - accuracy: 0.7164 - val_loss: 0.6431 - val_accuracy: 0.8000\n",
      "Epoch 44/100\n",
      "3/3 [==============================] - 0s 16ms/step - loss: 0.6482 - accuracy: 0.6716 - val_loss: 0.6463 - val_accuracy: 0.6000\n",
      "Epoch 45/100\n",
      "3/3 [==============================] - 0s 16ms/step - loss: 0.6540 - accuracy: 0.6119 - val_loss: 0.6498 - val_accuracy: 0.6000\n",
      "Epoch 46/100\n",
      "3/3 [==============================] - 0s 16ms/step - loss: 0.6578 - accuracy: 0.5672 - val_loss: 0.6435 - val_accuracy: 0.6000\n",
      "Epoch 47/100\n",
      "3/3 [==============================] - 0s 16ms/step - loss: 0.6494 - accuracy: 0.6269 - val_loss: 0.6355 - val_accuracy: 0.6667\n",
      "Epoch 48/100\n",
      "3/3 [==============================] - 0s 15ms/step - loss: 0.6465 - accuracy: 0.7761 - val_loss: 0.6394 - val_accuracy: 0.8000\n",
      "Epoch 49/100\n",
      "3/3 [==============================] - 0s 16ms/step - loss: 0.6512 - accuracy: 0.6418 - val_loss: 0.6426 - val_accuracy: 0.8333\n",
      "Epoch 50/100\n",
      "3/3 [==============================] - 0s 16ms/step - loss: 0.6516 - accuracy: 0.6567 - val_loss: 0.6423 - val_accuracy: 0.8333\n",
      "Epoch 51/100\n",
      "3/3 [==============================] - 0s 16ms/step - loss: 0.6519 - accuracy: 0.6418 - val_loss: 0.6435 - val_accuracy: 0.8333\n",
      "Epoch 52/100\n",
      "3/3 [==============================] - 0s 16ms/step - loss: 0.6512 - accuracy: 0.7313 - val_loss: 0.6353 - val_accuracy: 0.8000\n",
      "Epoch 53/100\n",
      "3/3 [==============================] - 0s 16ms/step - loss: 0.6439 - accuracy: 0.7612 - val_loss: 0.6311 - val_accuracy: 0.8000\n",
      "Epoch 54/100\n",
      "3/3 [==============================] - 0s 16ms/step - loss: 0.6412 - accuracy: 0.7463 - val_loss: 0.6220 - val_accuracy: 0.6667\n",
      "Epoch 55/100\n",
      "3/3 [==============================] - 0s 16ms/step - loss: 0.6339 - accuracy: 0.6716 - val_loss: 0.6222 - val_accuracy: 0.6667\n",
      "Epoch 56/100\n",
      "3/3 [==============================] - 0s 16ms/step - loss: 0.6357 - accuracy: 0.6866 - val_loss: 0.6218 - val_accuracy: 0.6000\n",
      "Epoch 57/100\n",
      "3/3 [==============================] - 0s 16ms/step - loss: 0.6425 - accuracy: 0.6269 - val_loss: 0.6358 - val_accuracy: 0.6000\n",
      "Epoch 58/100\n",
      "3/3 [==============================] - 0s 15ms/step - loss: 0.6509 - accuracy: 0.5672 - val_loss: 0.6408 - val_accuracy: 0.6000\n",
      "Epoch 59/100\n",
      "3/3 [==============================] - 0s 16ms/step - loss: 0.6565 - accuracy: 0.5672 - val_loss: 0.6407 - val_accuracy: 0.6000\n",
      "Epoch 60/100\n",
      "3/3 [==============================] - 0s 16ms/step - loss: 0.6539 - accuracy: 0.5672 - val_loss: 0.6223 - val_accuracy: 0.6000\n",
      "Epoch 61/100\n",
      "3/3 [==============================] - 0s 16ms/step - loss: 0.6447 - accuracy: 0.6269 - val_loss: 0.6235 - val_accuracy: 0.7667\n",
      "Epoch 62/100\n",
      "3/3 [==============================] - 0s 16ms/step - loss: 0.6374 - accuracy: 0.7612 - val_loss: 0.6223 - val_accuracy: 0.6000\n",
      "Epoch 63/100\n",
      "3/3 [==============================] - 0s 16ms/step - loss: 0.6506 - accuracy: 0.6119 - val_loss: 0.6589 - val_accuracy: 0.6000\n",
      "Epoch 64/100\n",
      "3/3 [==============================] - 0s 16ms/step - loss: 0.6825 - accuracy: 0.5672 - val_loss: 0.6724 - val_accuracy: 0.6000\n",
      "Epoch 65/100\n",
      "3/3 [==============================] - 0s 16ms/step - loss: 0.6947 - accuracy: 0.5672 - val_loss: 0.6559 - val_accuracy: 0.6000\n",
      "Epoch 66/100\n",
      "3/3 [==============================] - 0s 16ms/step - loss: 0.6695 - accuracy: 0.5672 - val_loss: 0.6293 - val_accuracy: 0.6000\n",
      "Epoch 67/100\n",
      "3/3 [==============================] - 0s 16ms/step - loss: 0.6438 - accuracy: 0.5672 - val_loss: 0.6332 - val_accuracy: 0.6000\n",
      "Epoch 68/100\n",
      "3/3 [==============================] - 0s 16ms/step - loss: 0.6573 - accuracy: 0.7164 - val_loss: 0.6534 - val_accuracy: 0.8000\n",
      "Epoch 69/100\n",
      "3/3 [==============================] - 0s 16ms/step - loss: 0.6650 - accuracy: 0.6418 - val_loss: 0.6543 - val_accuracy: 0.8333\n",
      "Epoch 70/100\n",
      "3/3 [==============================] - 0s 16ms/step - loss: 0.6667 - accuracy: 0.6269 - val_loss: 0.6525 - val_accuracy: 0.8333\n",
      "Epoch 71/100\n",
      "3/3 [==============================] - 0s 16ms/step - loss: 0.6644 - accuracy: 0.6269 - val_loss: 0.6441 - val_accuracy: 0.8000\n",
      "Epoch 72/100\n",
      "3/3 [==============================] - 0s 16ms/step - loss: 0.6569 - accuracy: 0.6567 - val_loss: 0.6283 - val_accuracy: 0.7667\n",
      "Epoch 73/100\n",
      "3/3 [==============================] - 0s 16ms/step - loss: 0.6409 - accuracy: 0.7015 - val_loss: 0.6382 - val_accuracy: 0.6000\n",
      "Epoch 74/100\n",
      "3/3 [==============================] - 0s 16ms/step - loss: 0.6543 - accuracy: 0.5672 - val_loss: 0.6668 - val_accuracy: 0.6000\n",
      "Epoch 75/100\n",
      "3/3 [==============================] - 0s 17ms/step - loss: 0.6930 - accuracy: 0.5672 - val_loss: 0.6821 - val_accuracy: 0.6000\n",
      "Epoch 76/100\n",
      "3/3 [==============================] - 0s 16ms/step - loss: 0.7111 - accuracy: 0.5672 - val_loss: 0.6878 - val_accuracy: 0.6000\n",
      "Epoch 77/100\n",
      "3/3 [==============================] - 0s 16ms/step - loss: 0.7149 - accuracy: 0.5672 - val_loss: 0.6845 - val_accuracy: 0.6000\n",
      "Epoch 78/100\n",
      "3/3 [==============================] - 0s 16ms/step - loss: 0.7072 - accuracy: 0.5672 - val_loss: 0.6660 - val_accuracy: 0.6000\n",
      "Epoch 79/100\n",
      "3/3 [==============================] - 0s 16ms/step - loss: 0.6712 - accuracy: 0.5672 - val_loss: 0.6472 - val_accuracy: 0.6000\n",
      "Epoch 80/100\n",
      "3/3 [==============================] - 0s 17ms/step - loss: 0.6521 - accuracy: 0.6119 - val_loss: 0.6522 - val_accuracy: 0.8000\n",
      "Epoch 81/100\n",
      "3/3 [==============================] - 0s 16ms/step - loss: 0.6640 - accuracy: 0.6716 - val_loss: 0.6724 - val_accuracy: 0.5667\n",
      "Epoch 82/100\n",
      "3/3 [==============================] - 0s 16ms/step - loss: 0.6770 - accuracy: 0.5373 - val_loss: 0.6580 - val_accuracy: 0.7333\n",
      "Epoch 83/100\n",
      "3/3 [==============================] - 0s 16ms/step - loss: 0.6632 - accuracy: 0.5821 - val_loss: 0.6452 - val_accuracy: 0.8000\n",
      "Epoch 84/100\n",
      "3/3 [==============================] - 0s 16ms/step - loss: 0.6524 - accuracy: 0.7612 - val_loss: 0.6426 - val_accuracy: 0.8000\n",
      "Epoch 85/100\n",
      "3/3 [==============================] - 0s 16ms/step - loss: 0.6490 - accuracy: 0.7761 - val_loss: 0.6411 - val_accuracy: 0.7667\n",
      "Epoch 86/100\n",
      "3/3 [==============================] - 0s 16ms/step - loss: 0.6465 - accuracy: 0.7761 - val_loss: 0.6405 - val_accuracy: 0.6667\n",
      "Epoch 87/100\n",
      "3/3 [==============================] - 0s 17ms/step - loss: 0.6480 - accuracy: 0.6716 - val_loss: 0.6439 - val_accuracy: 0.6000\n",
      "Epoch 88/100\n",
      "3/3 [==============================] - 0s 17ms/step - loss: 0.6522 - accuracy: 0.6119 - val_loss: 0.6430 - val_accuracy: 0.6000\n",
      "Epoch 89/100\n",
      "3/3 [==============================] - 0s 16ms/step - loss: 0.6491 - accuracy: 0.6418 - val_loss: 0.6352 - val_accuracy: 0.6667\n",
      "Epoch 90/100\n",
      "3/3 [==============================] - 0s 16ms/step - loss: 0.6481 - accuracy: 0.7612 - val_loss: 0.6315 - val_accuracy: 0.8000\n",
      "Epoch 91/100\n",
      "3/3 [==============================] - 0s 16ms/step - loss: 0.6417 - accuracy: 0.7761 - val_loss: 0.6292 - val_accuracy: 0.6667\n",
      "Epoch 92/100\n",
      "3/3 [==============================] - 0s 16ms/step - loss: 0.6380 - accuracy: 0.6418 - val_loss: 0.6390 - val_accuracy: 0.6000\n",
      "Epoch 93/100\n",
      "3/3 [==============================] - 0s 16ms/step - loss: 0.6516 - accuracy: 0.5970 - val_loss: 0.6426 - val_accuracy: 0.6000\n",
      "Epoch 94/100\n",
      "3/3 [==============================] - 0s 16ms/step - loss: 0.6551 - accuracy: 0.5672 - val_loss: 0.6393 - val_accuracy: 0.6000\n",
      "Epoch 95/100\n",
      "3/3 [==============================] - 0s 16ms/step - loss: 0.6521 - accuracy: 0.5672 - val_loss: 0.6380 - val_accuracy: 0.6000\n",
      "Epoch 96/100\n",
      "3/3 [==============================] - 0s 15ms/step - loss: 0.6501 - accuracy: 0.5672 - val_loss: 0.6322 - val_accuracy: 0.6000\n",
      "Epoch 97/100\n",
      "3/3 [==============================] - 0s 35ms/step - loss: 0.6436 - accuracy: 0.5821 - val_loss: 0.6243 - val_accuracy: 0.6000\n",
      "Epoch 98/100\n",
      "3/3 [==============================] - 0s 29ms/step - loss: 0.6395 - accuracy: 0.6269 - val_loss: 0.6298 - val_accuracy: 0.6000\n",
      "Epoch 99/100\n",
      "3/3 [==============================] - 0s 16ms/step - loss: 0.6471 - accuracy: 0.5522 - val_loss: 0.6320 - val_accuracy: 0.6000\n",
      "Epoch 100/100\n",
      "3/3 [==============================] - 0s 16ms/step - loss: 0.6443 - accuracy: 0.5970 - val_loss: 0.6201 - val_accuracy: 0.6000\n"
     ]
    },
    {
     "data": {
      "text/plain": [
       "<keras.callbacks.History at 0x1f30c94ecd0>"
      ]
     },
     "execution_count": 145,
     "metadata": {},
     "output_type": "execute_result"
    }
   ],
   "source": [
    "lstm.fit(X_train, y_train, epochs=100, batch_size=32, verbose=1,validation_data=(X_test, y_test) )"
   ]
  },
  {
   "cell_type": "code",
   "execution_count": 146,
   "metadata": {},
   "outputs": [
    {
     "name": "stdout",
     "output_type": "stream",
     "text": [
      "Model: \"sequential_6\"\n",
      "_________________________________________________________________\n",
      " Layer (type)                Output Shape              Param #   \n",
      "=================================================================\n",
      " lstm_9 (LSTM)               (None, 128)               69120     \n",
      "                                                                 \n",
      " dense_6 (Dense)             (None, 1)                 129       \n",
      "                                                                 \n",
      "=================================================================\n",
      "Total params: 69,249\n",
      "Trainable params: 69,249\n",
      "Non-trainable params: 0\n",
      "_________________________________________________________________\n"
     ]
    }
   ],
   "source": [
    "lstm.summary()"
   ]
  },
  {
   "attachments": {},
   "cell_type": "markdown",
   "metadata": {},
   "source": [
    "Let's now investigate the predictions of our model."
   ]
  },
  {
   "cell_type": "code",
   "execution_count": 147,
   "metadata": {},
   "outputs": [
    {
     "name": "stdout",
     "output_type": "stream",
     "text": [
      "WARNING:tensorflow:5 out of the last 6 calls to <function Model.make_predict_function.<locals>.predict_function at 0x000001F30CAD7430> triggered tf.function retracing. Tracing is expensive and the excessive number of tracings could be due to (1) creating @tf.function repeatedly in a loop, (2) passing tensors with different shapes, (3) passing Python objects instead of tensors. For (1), please define your @tf.function outside of the loop. For (2), @tf.function has reduce_retracing=True option that can avoid unnecessary retracing. For (3), please refer to https://www.tensorflow.org/guide/function#controlling_retracing and https://www.tensorflow.org/api_docs/python/tf/function for  more details.\n",
      "1/1 [==============================] - 0s 318ms/step\n"
     ]
    },
    {
     "data": {
      "text/plain": [
       "array([[0.32573098],\n",
       "       [0.32467875],\n",
       "       [0.32369533],\n",
       "       [0.4322991 ],\n",
       "       [0.43409705],\n",
       "       [0.4589001 ],\n",
       "       [0.4608729 ],\n",
       "       [0.44029823],\n",
       "       [0.4383854 ],\n",
       "       [0.33688262]], dtype=float32)"
      ]
     },
     "execution_count": 147,
     "metadata": {},
     "output_type": "execute_result"
    }
   ],
   "source": [
    "y_pred = lstm.predict(X_test)\n",
    "y_pred[:10]"
   ]
  },
  {
   "cell_type": "code",
   "execution_count": 148,
   "metadata": {},
   "outputs": [
    {
     "data": {
      "text/plain": [
       "<sklearn.metrics._plot.confusion_matrix.ConfusionMatrixDisplay at 0x1f30c973550>"
      ]
     },
     "execution_count": 148,
     "metadata": {},
     "output_type": "execute_result"
    },
    {
     "data": {
      "image/png": "[encoded data removed]",
      "text/plain": [
       "<Figure size 640x480 with 2 Axes>"
      ]
     },
     "metadata": {},
     "output_type": "display_data"
    }
   ],
   "source": [
    "from sklearn.metrics import confusion_matrix\n",
    "from sklearn.metrics import ConfusionMatrixDisplay\n",
    "c = confusion_matrix(y_test, np.round(y_pred))\n",
    "disp = ConfusionMatrixDisplay(c)\n",
    "disp.plot(cmap='Greens')"
   ]
  },
  {
   "cell_type": "code",
   "execution_count": 149,
   "metadata": {},
   "outputs": [
    {
     "name": "stdout",
     "output_type": "stream",
     "text": [
      "              precision    recall  f1-score   support\n",
      "\n",
      "         0.0       0.60      1.00      0.75        18\n",
      "         1.0       0.00      0.00      0.00        12\n",
      "\n",
      "    accuracy                           0.60        30\n",
      "   macro avg       0.30      0.50      0.37        30\n",
      "weighted avg       0.36      0.60      0.45        30\n",
      "\n"
     ]
    },
    {
     "name": "stderr",
     "output_type": "stream",
     "text": [
      "c:\\Users\\mukes\\anaconda3\\lib\\site-packages\\sklearn\\metrics\\_classification.py:1318: UndefinedMetricWarning: Precision and F-score are ill-defined and being set to 0.0 in labels with no predicted samples. Use `zero_division` parameter to control this behavior.\n",
      "  _warn_prf(average, modifier, msg_start, len(result))\n",
      "c:\\Users\\mukes\\anaconda3\\lib\\site-packages\\sklearn\\metrics\\_classification.py:1318: UndefinedMetricWarning: Precision and F-score are ill-defined and being set to 0.0 in labels with no predicted samples. Use `zero_division` parameter to control this behavior.\n",
      "  _warn_prf(average, modifier, msg_start, len(result))\n",
      "c:\\Users\\mukes\\anaconda3\\lib\\site-packages\\sklearn\\metrics\\_classification.py:1318: UndefinedMetricWarning: Precision and F-score are ill-defined and being set to 0.0 in labels with no predicted samples. Use `zero_division` parameter to control this behavior.\n",
      "  _warn_prf(average, modifier, msg_start, len(result))\n"
     ]
    }
   ],
   "source": [
    "from sklearn.metrics import classification_report\n",
    "print(classification_report(y_test,np.round(y_pred)))"
   ]
  },
  {
   "cell_type": "code",
   "execution_count": 114,
   "metadata": {},
   "outputs": [],
   "source": [
    "performance = pd.DataFrame({\"model\": [], \"MSE\": []})"
   ]
  },
  {
   "cell_type": "code",
   "execution_count": 116,
   "metadata": {},
   "outputs": [
    {
     "data": {
      "text/html": [
       "<div>\n",
       "<style scoped>\n",
       "    .dataframe tbody tr th:only-of-type {\n",
       "        vertical-align: middle;\n",
       "    }\n",
       "\n",
       "    .dataframe tbody tr th {\n",
       "        vertical-align: top;\n",
       "    }\n",
       "\n",
       "    .dataframe thead th {\n",
       "        text-align: right;\n",
       "    }\n",
       "</style>\n",
       "<table border=\"1\" class=\"dataframe\">\n",
       "  <thead>\n",
       "    <tr style=\"text-align: right;\">\n",
       "      <th></th>\n",
       "      <th>actual</th>\n",
       "      <th>predicted</th>\n",
       "      <th>residual</th>\n",
       "    </tr>\n",
       "  </thead>\n",
       "  <tbody>\n",
       "    <tr>\n",
       "      <th>0</th>\n",
       "      <td>0.0</td>\n",
       "      <td>0.433610</td>\n",
       "      <td>-0.433610</td>\n",
       "    </tr>\n",
       "    <tr>\n",
       "      <th>1</th>\n",
       "      <td>0.0</td>\n",
       "      <td>0.433610</td>\n",
       "      <td>-0.433610</td>\n",
       "    </tr>\n",
       "    <tr>\n",
       "      <th>2</th>\n",
       "      <td>1.0</td>\n",
       "      <td>0.433609</td>\n",
       "      <td>0.566391</td>\n",
       "    </tr>\n",
       "    <tr>\n",
       "      <th>3</th>\n",
       "      <td>1.0</td>\n",
       "      <td>0.433618</td>\n",
       "      <td>0.566382</td>\n",
       "    </tr>\n",
       "    <tr>\n",
       "      <th>4</th>\n",
       "      <td>1.0</td>\n",
       "      <td>0.433618</td>\n",
       "      <td>0.566382</td>\n",
       "    </tr>\n",
       "    <tr>\n",
       "      <th>5</th>\n",
       "      <td>1.0</td>\n",
       "      <td>0.433613</td>\n",
       "      <td>0.566387</td>\n",
       "    </tr>\n",
       "    <tr>\n",
       "      <th>6</th>\n",
       "      <td>1.0</td>\n",
       "      <td>0.433613</td>\n",
       "      <td>0.566387</td>\n",
       "    </tr>\n",
       "    <tr>\n",
       "      <th>7</th>\n",
       "      <td>1.0</td>\n",
       "      <td>0.433614</td>\n",
       "      <td>0.566386</td>\n",
       "    </tr>\n",
       "    <tr>\n",
       "      <th>8</th>\n",
       "      <td>0.0</td>\n",
       "      <td>0.433613</td>\n",
       "      <td>-0.433613</td>\n",
       "    </tr>\n",
       "    <tr>\n",
       "      <th>9</th>\n",
       "      <td>0.0</td>\n",
       "      <td>0.433611</td>\n",
       "      <td>-0.433611</td>\n",
       "    </tr>\n",
       "    <tr>\n",
       "      <th>10</th>\n",
       "      <td>0.0</td>\n",
       "      <td>0.433612</td>\n",
       "      <td>-0.433612</td>\n",
       "    </tr>\n",
       "    <tr>\n",
       "      <th>11</th>\n",
       "      <td>0.0</td>\n",
       "      <td>0.433612</td>\n",
       "      <td>-0.433612</td>\n",
       "    </tr>\n",
       "    <tr>\n",
       "      <th>12</th>\n",
       "      <td>0.0</td>\n",
       "      <td>0.433610</td>\n",
       "      <td>-0.433610</td>\n",
       "    </tr>\n",
       "    <tr>\n",
       "      <th>13</th>\n",
       "      <td>0.0</td>\n",
       "      <td>0.433610</td>\n",
       "      <td>-0.433610</td>\n",
       "    </tr>\n",
       "    <tr>\n",
       "      <th>14</th>\n",
       "      <td>0.0</td>\n",
       "      <td>0.433615</td>\n",
       "      <td>-0.433615</td>\n",
       "    </tr>\n",
       "    <tr>\n",
       "      <th>15</th>\n",
       "      <td>0.0</td>\n",
       "      <td>0.433614</td>\n",
       "      <td>-0.433614</td>\n",
       "    </tr>\n",
       "    <tr>\n",
       "      <th>16</th>\n",
       "      <td>0.0</td>\n",
       "      <td>0.433614</td>\n",
       "      <td>-0.433614</td>\n",
       "    </tr>\n",
       "    <tr>\n",
       "      <th>17</th>\n",
       "      <td>0.0</td>\n",
       "      <td>0.433606</td>\n",
       "      <td>-0.433606</td>\n",
       "    </tr>\n",
       "    <tr>\n",
       "      <th>18</th>\n",
       "      <td>0.0</td>\n",
       "      <td>0.433608</td>\n",
       "      <td>-0.433608</td>\n",
       "    </tr>\n",
       "    <tr>\n",
       "      <th>19</th>\n",
       "      <td>1.0</td>\n",
       "      <td>0.433611</td>\n",
       "      <td>0.566389</td>\n",
       "    </tr>\n",
       "    <tr>\n",
       "      <th>20</th>\n",
       "      <td>1.0</td>\n",
       "      <td>0.433622</td>\n",
       "      <td>0.566378</td>\n",
       "    </tr>\n",
       "    <tr>\n",
       "      <th>21</th>\n",
       "      <td>1.0</td>\n",
       "      <td>0.433623</td>\n",
       "      <td>0.566377</td>\n",
       "    </tr>\n",
       "    <tr>\n",
       "      <th>22</th>\n",
       "      <td>0.0</td>\n",
       "      <td>0.433622</td>\n",
       "      <td>-0.433622</td>\n",
       "    </tr>\n",
       "    <tr>\n",
       "      <th>23</th>\n",
       "      <td>1.0</td>\n",
       "      <td>0.433614</td>\n",
       "      <td>0.566386</td>\n",
       "    </tr>\n",
       "    <tr>\n",
       "      <th>24</th>\n",
       "      <td>1.0</td>\n",
       "      <td>0.433614</td>\n",
       "      <td>0.566386</td>\n",
       "    </tr>\n",
       "    <tr>\n",
       "      <th>25</th>\n",
       "      <td>1.0</td>\n",
       "      <td>0.433614</td>\n",
       "      <td>0.566386</td>\n",
       "    </tr>\n",
       "    <tr>\n",
       "      <th>26</th>\n",
       "      <td>0.0</td>\n",
       "      <td>0.433613</td>\n",
       "      <td>-0.433613</td>\n",
       "    </tr>\n",
       "    <tr>\n",
       "      <th>27</th>\n",
       "      <td>0.0</td>\n",
       "      <td>0.433612</td>\n",
       "      <td>-0.433612</td>\n",
       "    </tr>\n",
       "    <tr>\n",
       "      <th>28</th>\n",
       "      <td>0.0</td>\n",
       "      <td>0.433612</td>\n",
       "      <td>-0.433612</td>\n",
       "    </tr>\n",
       "    <tr>\n",
       "      <th>29</th>\n",
       "      <td>0.0</td>\n",
       "      <td>0.433613</td>\n",
       "      <td>-0.433613</td>\n",
       "    </tr>\n",
       "  </tbody>\n",
       "</table>\n",
       "</div>"
      ],
      "text/plain": [
       "    actual  predicted  residual\n",
       "0      0.0   0.433610 -0.433610\n",
       "1      0.0   0.433610 -0.433610\n",
       "2      1.0   0.433609  0.566391\n",
       "3      1.0   0.433618  0.566382\n",
       "4      1.0   0.433618  0.566382\n",
       "5      1.0   0.433613  0.566387\n",
       "6      1.0   0.433613  0.566387\n",
       "7      1.0   0.433614  0.566386\n",
       "8      0.0   0.433613 -0.433613\n",
       "9      0.0   0.433611 -0.433611\n",
       "10     0.0   0.433612 -0.433612\n",
       "11     0.0   0.433612 -0.433612\n",
       "12     0.0   0.433610 -0.433610\n",
       "13     0.0   0.433610 -0.433610\n",
       "14     0.0   0.433615 -0.433615\n",
       "15     0.0   0.433614 -0.433614\n",
       "16     0.0   0.433614 -0.433614\n",
       "17     0.0   0.433606 -0.433606\n",
       "18     0.0   0.433608 -0.433608\n",
       "19     1.0   0.433611  0.566389\n",
       "20     1.0   0.433622  0.566378\n",
       "21     1.0   0.433623  0.566377\n",
       "22     0.0   0.433622 -0.433622\n",
       "23     1.0   0.433614  0.566386\n",
       "24     1.0   0.433614  0.566386\n",
       "25     1.0   0.433614  0.566386\n",
       "26     0.0   0.433613 -0.433613\n",
       "27     0.0   0.433612 -0.433612\n",
       "28     0.0   0.433612 -0.433612\n",
       "29     0.0   0.433613 -0.433613"
      ]
     },
     "execution_count": 116,
     "metadata": {},
     "output_type": "execute_result"
    }
   ],
   "source": [
    "results = pd.DataFrame()\n",
    "\n",
    "results['actual'] = y_test.flatten()\n",
    "results['predicted'] = y_pred.flatten()\n",
    "results['residual'] = results['actual'] - results['predicted']\n",
    "\n",
    "results"
   ]
  },
  {
   "cell_type": "code",
   "execution_count": 117,
   "metadata": {},
   "outputs": [
    {
     "data": {
      "image/png": "[encoded data removed]",
      "text/plain": [
       "<Figure size 640x480 with 1 Axes>"
      ]
     },
     "metadata": {},
     "output_type": "display_data"
    }
   ],
   "source": [
    "from matplotlib import pyplot as plt\n",
    "\n",
    "plt.plot(results['actual'], label = 'actual')\n",
    "plt.plot(results['predicted'], label = 'predicted')\n",
    "plt.plot(results['residual'], label = 'residual')\n",
    "\n",
    "plt.legend()\n",
    "\n",
    "plt.show()"
   ]
  },
  {
   "cell_type": "code",
   "execution_count": 214,
   "metadata": {},
   "outputs": [
    {
     "data": {
      "text/plain": [
       "0.7925671076436855"
      ]
     },
     "execution_count": 214,
     "metadata": {},
     "output_type": "execute_result"
    }
   ],
   "source": [
    "lstm_mse = mean_squared_error(results['actual'], results['predicted'])\n",
    "lstm_mse"
   ]
  },
  {
   "cell_type": "code",
   "execution_count": 215,
   "metadata": {},
   "outputs": [
    {
     "data": {
      "text/html": [
       "<div>\n",
       "<style scoped>\n",
       "    .dataframe tbody tr th:only-of-type {\n",
       "        vertical-align: middle;\n",
       "    }\n",
       "\n",
       "    .dataframe tbody tr th {\n",
       "        vertical-align: top;\n",
       "    }\n",
       "\n",
       "    .dataframe thead th {\n",
       "        text-align: right;\n",
       "    }\n",
       "</style>\n",
       "<table border=\"1\" class=\"dataframe\">\n",
       "  <thead>\n",
       "    <tr style=\"text-align: right;\">\n",
       "      <th></th>\n",
       "      <th>model</th>\n",
       "      <th>MSE</th>\n",
       "    </tr>\n",
       "  </thead>\n",
       "  <tbody>\n",
       "    <tr>\n",
       "      <th>0</th>\n",
       "      <td>Lstm RNN</td>\n",
       "      <td>0.792567</td>\n",
       "    </tr>\n",
       "  </tbody>\n",
       "</table>\n",
       "</div>"
      ],
      "text/plain": [
       "      model       MSE\n",
       "0  Lstm RNN  0.792567"
      ]
     },
     "execution_count": 215,
     "metadata": {},
     "output_type": "execute_result"
    }
   ],
   "source": [
    "performance = pd.concat([performance, pd.DataFrame({'model':\"Lstm RNN\", 'MSE': lstm_mse}, index=[0])])\n",
    "performance"
   ]
  },
  {
   "attachments": {},
   "cell_type": "markdown",
   "metadata": {},
   "source": [
    "GRU"
   ]
  },
  {
   "cell_type": "code",
   "execution_count": 216,
   "metadata": {},
   "outputs": [],
   "source": [
    "Gru = keras.models.Sequential([\n",
    "    keras.layers.GRU(32, activation='tanh', return_sequences=True, input_shape=[3, 4]),\n",
    "    keras.layers.GRU(32, activation='relu', return_sequences=False),\n",
    "    keras.layers.Dense(1, activation=None)\n",
    "])"
   ]
  },
  {
   "cell_type": "code",
   "execution_count": 217,
   "metadata": {},
   "outputs": [],
   "source": [
    "np.random.seed(42)\n",
    "tf.random.set_seed(42)\n",
    "\n",
    "Gru.compile(loss=\"mse\", optimizer='RMSprop')"
   ]
  },
  {
   "cell_type": "code",
   "execution_count": 218,
   "metadata": {},
   "outputs": [
    {
     "name": "stdout",
     "output_type": "stream",
     "text": [
      "Model: \"sequential_17\"\n",
      "_________________________________________________________________\n",
      " Layer (type)                Output Shape              Param #   \n",
      "=================================================================\n",
      " gru_10 (GRU)                (None, 3, 32)             3648      \n",
      "                                                                 \n",
      " gru_11 (GRU)                (None, 32)                6336      \n",
      "                                                                 \n",
      " dense_17 (Dense)            (None, 1)                 33        \n",
      "                                                                 \n",
      "=================================================================\n",
      "Total params: 10,017\n",
      "Trainable params: 10,017\n",
      "Non-trainable params: 0\n",
      "_________________________________________________________________\n"
     ]
    }
   ],
   "source": [
    "Gru.summary() "
   ]
  },
  {
   "attachments": {},
   "cell_type": "markdown",
   "metadata": {},
   "source": [
    "fit to Gru"
   ]
  },
  {
   "cell_type": "code",
   "execution_count": 219,
   "metadata": {},
   "outputs": [
    {
     "name": "stdout",
     "output_type": "stream",
     "text": [
      "Epoch 1/100\n",
      "244/244 [==============================] - 3s 3ms/step - loss: 384.4064\n",
      "Epoch 2/100\n",
      "244/244 [==============================] - 1s 3ms/step - loss: 19.8369\n",
      "Epoch 3/100\n",
      "244/244 [==============================] - 1s 2ms/step - loss: 17.3790\n",
      "Epoch 4/100\n",
      "244/244 [==============================] - 1s 2ms/step - loss: 14.3958\n",
      "Epoch 5/100\n",
      "244/244 [==============================] - 1s 2ms/step - loss: 13.2050\n",
      "Epoch 6/100\n",
      "244/244 [==============================] - 1s 2ms/step - loss: 11.6844\n",
      "Epoch 7/100\n",
      "244/244 [==============================] - 1s 3ms/step - loss: 9.7228\n",
      "Epoch 8/100\n",
      "244/244 [==============================] - 1s 2ms/step - loss: 8.7838\n",
      "Epoch 9/100\n",
      "244/244 [==============================] - 1s 3ms/step - loss: 8.4559\n",
      "Epoch 10/100\n",
      "244/244 [==============================] - 1s 3ms/step - loss: 8.1279\n",
      "Epoch 11/100\n",
      "244/244 [==============================] - 1s 3ms/step - loss: 7.6539\n",
      "Epoch 12/100\n",
      "244/244 [==============================] - 1s 3ms/step - loss: 6.6012\n",
      "Epoch 13/100\n",
      "244/244 [==============================] - 1s 3ms/step - loss: 6.8815\n",
      "Epoch 14/100\n",
      "244/244 [==============================] - 1s 3ms/step - loss: 5.7921\n",
      "Epoch 15/100\n",
      "244/244 [==============================] - 1s 2ms/step - loss: 6.4223\n",
      "Epoch 16/100\n",
      "244/244 [==============================] - 1s 3ms/step - loss: 5.5892\n",
      "Epoch 17/100\n",
      "244/244 [==============================] - 1s 3ms/step - loss: 5.7791\n",
      "Epoch 18/100\n",
      "244/244 [==============================] - 1s 3ms/step - loss: 5.4108\n",
      "Epoch 19/100\n",
      "244/244 [==============================] - 1s 3ms/step - loss: 5.5443\n",
      "Epoch 20/100\n",
      "244/244 [==============================] - 1s 3ms/step - loss: 5.3890\n",
      "Epoch 21/100\n",
      "244/244 [==============================] - 1s 3ms/step - loss: 5.2155\n",
      "Epoch 22/100\n",
      "244/244 [==============================] - 1s 3ms/step - loss: 5.1842\n",
      "Epoch 23/100\n",
      "244/244 [==============================] - 1s 3ms/step - loss: 4.5316\n",
      "Epoch 24/100\n",
      "244/244 [==============================] - 1s 3ms/step - loss: 4.7875\n",
      "Epoch 25/100\n",
      "244/244 [==============================] - 1s 3ms/step - loss: 4.6544\n",
      "Epoch 26/100\n",
      "244/244 [==============================] - 1s 3ms/step - loss: 4.7971\n",
      "Epoch 27/100\n",
      "244/244 [==============================] - 1s 2ms/step - loss: 4.6938\n",
      "Epoch 28/100\n",
      "244/244 [==============================] - 1s 2ms/step - loss: 5.2089\n",
      "Epoch 29/100\n",
      "244/244 [==============================] - 1s 3ms/step - loss: 4.6866\n",
      "Epoch 30/100\n",
      "244/244 [==============================] - 1s 2ms/step - loss: 5.0251\n",
      "Epoch 31/100\n",
      "244/244 [==============================] - 1s 3ms/step - loss: 4.2118\n",
      "Epoch 32/100\n",
      "244/244 [==============================] - 1s 3ms/step - loss: 5.3695\n",
      "Epoch 33/100\n",
      "244/244 [==============================] - 1s 3ms/step - loss: 4.4281\n",
      "Epoch 34/100\n",
      "244/244 [==============================] - 1s 3ms/step - loss: 4.4563\n",
      "Epoch 35/100\n",
      "244/244 [==============================] - 1s 3ms/step - loss: 4.6244\n",
      "Epoch 36/100\n",
      "244/244 [==============================] - 1s 3ms/step - loss: 4.0368\n",
      "Epoch 37/100\n",
      "244/244 [==============================] - 1s 3ms/step - loss: 3.7854\n",
      "Epoch 38/100\n",
      "244/244 [==============================] - 1s 3ms/step - loss: 4.3303\n",
      "Epoch 39/100\n",
      "244/244 [==============================] - 1s 3ms/step - loss: 4.1350\n",
      "Epoch 40/100\n",
      "244/244 [==============================] - 1s 3ms/step - loss: 4.0382\n",
      "Epoch 41/100\n",
      "244/244 [==============================] - 1s 3ms/step - loss: 4.0224\n",
      "Epoch 42/100\n",
      "244/244 [==============================] - 1s 3ms/step - loss: 3.7932\n",
      "Epoch 43/100\n",
      "244/244 [==============================] - 1s 3ms/step - loss: 3.7833\n",
      "Epoch 44/100\n",
      "244/244 [==============================] - 1s 3ms/step - loss: 4.6581\n",
      "Epoch 45/100\n",
      "244/244 [==============================] - 1s 3ms/step - loss: 3.9419\n",
      "Epoch 46/100\n",
      "244/244 [==============================] - 1s 3ms/step - loss: 4.3050\n",
      "Epoch 47/100\n",
      "244/244 [==============================] - 1s 3ms/step - loss: 3.9805\n",
      "Epoch 48/100\n",
      "244/244 [==============================] - 1s 3ms/step - loss: 3.9163\n",
      "Epoch 49/100\n",
      "244/244 [==============================] - 1s 3ms/step - loss: 4.1651\n",
      "Epoch 50/100\n",
      "244/244 [==============================] - 1s 2ms/step - loss: 3.8245\n",
      "Epoch 51/100\n",
      "244/244 [==============================] - 1s 3ms/step - loss: 3.4328\n",
      "Epoch 52/100\n",
      "244/244 [==============================] - 1s 3ms/step - loss: 3.8960\n",
      "Epoch 53/100\n",
      "244/244 [==============================] - 1s 3ms/step - loss: 3.8272\n",
      "Epoch 54/100\n",
      "244/244 [==============================] - 1s 3ms/step - loss: 3.6120\n",
      "Epoch 55/100\n",
      "244/244 [==============================] - 1s 2ms/step - loss: 3.9870\n",
      "Epoch 56/100\n",
      "244/244 [==============================] - 1s 2ms/step - loss: 3.4957\n",
      "Epoch 57/100\n",
      "244/244 [==============================] - 1s 2ms/step - loss: 3.4385\n",
      "Epoch 58/100\n",
      "244/244 [==============================] - 1s 3ms/step - loss: 3.7544\n",
      "Epoch 59/100\n",
      "244/244 [==============================] - 1s 3ms/step - loss: 3.6764\n",
      "Epoch 60/100\n",
      "244/244 [==============================] - 1s 3ms/step - loss: 3.6558\n",
      "Epoch 61/100\n",
      "244/244 [==============================] - 1s 3ms/step - loss: 3.4407\n",
      "Epoch 62/100\n",
      "244/244 [==============================] - 1s 3ms/step - loss: 3.6085\n",
      "Epoch 63/100\n",
      "244/244 [==============================] - 1s 3ms/step - loss: 3.1734\n",
      "Epoch 64/100\n",
      "244/244 [==============================] - 1s 3ms/step - loss: 3.5623\n",
      "Epoch 65/100\n",
      "244/244 [==============================] - 1s 3ms/step - loss: 3.8699\n",
      "Epoch 66/100\n",
      "244/244 [==============================] - 1s 2ms/step - loss: 3.6853\n",
      "Epoch 67/100\n",
      "244/244 [==============================] - 1s 2ms/step - loss: 3.2190\n",
      "Epoch 68/100\n",
      "244/244 [==============================] - 1s 2ms/step - loss: 3.3841\n",
      "Epoch 69/100\n",
      "244/244 [==============================] - 1s 3ms/step - loss: 3.3252\n",
      "Epoch 70/100\n",
      "244/244 [==============================] - 1s 2ms/step - loss: 3.1868\n",
      "Epoch 71/100\n",
      "244/244 [==============================] - 1s 3ms/step - loss: 3.3559\n",
      "Epoch 72/100\n",
      "244/244 [==============================] - 1s 3ms/step - loss: 3.2374\n",
      "Epoch 73/100\n",
      "244/244 [==============================] - 1s 3ms/step - loss: 3.1594\n",
      "Epoch 74/100\n",
      "244/244 [==============================] - 1s 2ms/step - loss: 3.5047\n",
      "Epoch 75/100\n",
      "244/244 [==============================] - 1s 3ms/step - loss: 3.2812\n",
      "Epoch 76/100\n",
      "244/244 [==============================] - 1s 2ms/step - loss: 2.8063\n",
      "Epoch 77/100\n",
      "244/244 [==============================] - 1s 3ms/step - loss: 3.3466\n",
      "Epoch 78/100\n",
      "244/244 [==============================] - 1s 3ms/step - loss: 3.3342\n",
      "Epoch 79/100\n",
      "244/244 [==============================] - 1s 3ms/step - loss: 3.4377\n",
      "Epoch 80/100\n",
      "244/244 [==============================] - 1s 3ms/step - loss: 3.1845\n",
      "Epoch 81/100\n",
      "244/244 [==============================] - 1s 3ms/step - loss: 3.2537\n",
      "Epoch 82/100\n",
      "244/244 [==============================] - 1s 3ms/step - loss: 3.0618\n",
      "Epoch 83/100\n",
      "244/244 [==============================] - 1s 3ms/step - loss: 3.3530\n",
      "Epoch 84/100\n",
      "244/244 [==============================] - 1s 3ms/step - loss: 2.9568\n",
      "Epoch 85/100\n",
      "244/244 [==============================] - 1s 3ms/step - loss: 3.4154\n",
      "Epoch 86/100\n",
      "244/244 [==============================] - 1s 2ms/step - loss: 3.0813\n",
      "Epoch 87/100\n",
      "244/244 [==============================] - 1s 2ms/step - loss: 3.1701\n",
      "Epoch 88/100\n",
      "244/244 [==============================] - 1s 3ms/step - loss: 3.0157\n",
      "Epoch 89/100\n",
      "244/244 [==============================] - 1s 3ms/step - loss: 3.1181\n",
      "Epoch 90/100\n",
      "244/244 [==============================] - 1s 3ms/step - loss: 3.3914\n",
      "Epoch 91/100\n",
      "244/244 [==============================] - 1s 3ms/step - loss: 2.9983\n",
      "Epoch 92/100\n",
      "244/244 [==============================] - 1s 3ms/step - loss: 2.9323\n",
      "Epoch 93/100\n",
      "244/244 [==============================] - 1s 3ms/step - loss: 3.1675\n",
      "Epoch 94/100\n",
      "244/244 [==============================] - 1s 3ms/step - loss: 2.9719\n",
      "Epoch 95/100\n",
      "244/244 [==============================] - 1s 3ms/step - loss: 2.9115\n",
      "Epoch 96/100\n",
      "244/244 [==============================] - 1s 3ms/step - loss: 3.0634\n",
      "Epoch 97/100\n",
      "244/244 [==============================] - 1s 3ms/step - loss: 2.8150\n",
      "Epoch 98/100\n",
      "244/244 [==============================] - 1s 3ms/step - loss: 2.8445\n",
      "Epoch 99/100\n",
      "244/244 [==============================] - 1s 3ms/step - loss: 2.9167\n",
      "Epoch 100/100\n",
      "244/244 [==============================] - 1s 3ms/step - loss: 3.0292\n"
     ]
    },
    {
     "data": {
      "text/plain": [
       "<keras.callbacks.History at 0x1ef83173370>"
      ]
     },
     "execution_count": 219,
     "metadata": {},
     "output_type": "execute_result"
    }
   ],
   "source": [
    "Gru.fit(X_train, y_train, epochs=100, batch_size=1, verbose=1)"
   ]
  },
  {
   "attachments": {},
   "cell_type": "markdown",
   "metadata": {},
   "source": [
    "Let's now investigate the predictions of our model."
   ]
  },
  {
   "cell_type": "code",
   "execution_count": 220,
   "metadata": {},
   "outputs": [
    {
     "name": "stdout",
     "output_type": "stream",
     "text": [
      "4/4 [==============================] - 1s 2ms/step\n"
     ]
    },
    {
     "data": {
      "text/plain": [
       "array([[46.947865],\n",
       "       [46.462074],\n",
       "       [46.241875],\n",
       "       [46.058693],\n",
       "       [46.230644],\n",
       "       [46.859512],\n",
       "       [47.018147],\n",
       "       [47.228718],\n",
       "       [47.260406],\n",
       "       [47.039825]], dtype=float32)"
      ]
     },
     "execution_count": 220,
     "metadata": {},
     "output_type": "execute_result"
    }
   ],
   "source": [
    "y_pred = Gru.predict(X_test)\n",
    "y_pred[:10]"
   ]
  },
  {
   "cell_type": "code",
   "execution_count": 221,
   "metadata": {},
   "outputs": [
    {
     "data": {
      "text/html": [
       "<div>\n",
       "<style scoped>\n",
       "    .dataframe tbody tr th:only-of-type {\n",
       "        vertical-align: middle;\n",
       "    }\n",
       "\n",
       "    .dataframe tbody tr th {\n",
       "        vertical-align: top;\n",
       "    }\n",
       "\n",
       "    .dataframe thead th {\n",
       "        text-align: right;\n",
       "    }\n",
       "</style>\n",
       "<table border=\"1\" class=\"dataframe\">\n",
       "  <thead>\n",
       "    <tr style=\"text-align: right;\">\n",
       "      <th></th>\n",
       "      <th>actual</th>\n",
       "      <th>predicted</th>\n",
       "      <th>residual</th>\n",
       "    </tr>\n",
       "  </thead>\n",
       "  <tbody>\n",
       "    <tr>\n",
       "      <th>0</th>\n",
       "      <td>46.709999</td>\n",
       "      <td>46.947865</td>\n",
       "      <td>-0.237866</td>\n",
       "    </tr>\n",
       "    <tr>\n",
       "      <th>1</th>\n",
       "      <td>46.209999</td>\n",
       "      <td>46.462074</td>\n",
       "      <td>-0.252075</td>\n",
       "    </tr>\n",
       "    <tr>\n",
       "      <th>2</th>\n",
       "      <td>45.990002</td>\n",
       "      <td>46.241875</td>\n",
       "      <td>-0.251873</td>\n",
       "    </tr>\n",
       "    <tr>\n",
       "      <th>3</th>\n",
       "      <td>46.500000</td>\n",
       "      <td>46.058693</td>\n",
       "      <td>0.441307</td>\n",
       "    </tr>\n",
       "    <tr>\n",
       "      <th>4</th>\n",
       "      <td>46.840000</td>\n",
       "      <td>46.230644</td>\n",
       "      <td>0.609356</td>\n",
       "    </tr>\n",
       "    <tr>\n",
       "      <th>...</th>\n",
       "      <td>...</td>\n",
       "      <td>...</td>\n",
       "      <td>...</td>\n",
       "    </tr>\n",
       "    <tr>\n",
       "      <th>100</th>\n",
       "      <td>39.189999</td>\n",
       "      <td>40.234879</td>\n",
       "      <td>-1.044880</td>\n",
       "    </tr>\n",
       "    <tr>\n",
       "      <th>101</th>\n",
       "      <td>39.660000</td>\n",
       "      <td>39.934837</td>\n",
       "      <td>-0.274837</td>\n",
       "    </tr>\n",
       "    <tr>\n",
       "      <th>102</th>\n",
       "      <td>39.639999</td>\n",
       "      <td>40.393242</td>\n",
       "      <td>-0.753243</td>\n",
       "    </tr>\n",
       "    <tr>\n",
       "      <th>103</th>\n",
       "      <td>41.299999</td>\n",
       "      <td>40.428322</td>\n",
       "      <td>0.871677</td>\n",
       "    </tr>\n",
       "    <tr>\n",
       "      <th>104</th>\n",
       "      <td>41.869999</td>\n",
       "      <td>42.033447</td>\n",
       "      <td>-0.163448</td>\n",
       "    </tr>\n",
       "  </tbody>\n",
       "</table>\n",
       "<p>105 rows × 3 columns</p>\n",
       "</div>"
      ],
      "text/plain": [
       "        actual  predicted  residual\n",
       "0    46.709999  46.947865 -0.237866\n",
       "1    46.209999  46.462074 -0.252075\n",
       "2    45.990002  46.241875 -0.251873\n",
       "3    46.500000  46.058693  0.441307\n",
       "4    46.840000  46.230644  0.609356\n",
       "..         ...        ...       ...\n",
       "100  39.189999  40.234879 -1.044880\n",
       "101  39.660000  39.934837 -0.274837\n",
       "102  39.639999  40.393242 -0.753243\n",
       "103  41.299999  40.428322  0.871677\n",
       "104  41.869999  42.033447 -0.163448\n",
       "\n",
       "[105 rows x 3 columns]"
      ]
     },
     "execution_count": 221,
     "metadata": {},
     "output_type": "execute_result"
    }
   ],
   "source": [
    "results = pd.DataFrame()\n",
    "\n",
    "results['actual'] = y_test.flatten()\n",
    "results['predicted'] = y_pred.flatten()\n",
    "results['residual'] = results['actual'] - results['predicted']\n",
    "\n",
    "results"
   ]
  },
  {
   "cell_type": "code",
   "execution_count": 222,
   "metadata": {},
   "outputs": [
    {
     "data": {
      "image/png": "[encoded data removed]",
      "text/plain": [
       "<Figure size 640x480 with 1 Axes>"
      ]
     },
     "metadata": {},
     "output_type": "display_data"
    }
   ],
   "source": [
    "from matplotlib import pyplot as plt\n",
    "\n",
    "plt.plot(results['actual'], label = 'actual')\n",
    "plt.plot(results['predicted'], label = 'predicted')\n",
    "plt.plot(results['residual'], label = 'residual')\n",
    "\n",
    "plt.legend()\n",
    "\n",
    "plt.show()"
   ]
  },
  {
   "cell_type": "code",
   "execution_count": 223,
   "metadata": {},
   "outputs": [
    {
     "data": {
      "text/plain": [
       "0.9664720868796065"
      ]
     },
     "execution_count": 223,
     "metadata": {},
     "output_type": "execute_result"
    }
   ],
   "source": [
    "gru_mse = mean_squared_error(results['actual'], results['predicted'])\n",
    "gru_mse"
   ]
  },
  {
   "cell_type": "code",
   "execution_count": 224,
   "metadata": {},
   "outputs": [
    {
     "data": {
      "text/html": [
       "<div>\n",
       "<style scoped>\n",
       "    .dataframe tbody tr th:only-of-type {\n",
       "        vertical-align: middle;\n",
       "    }\n",
       "\n",
       "    .dataframe tbody tr th {\n",
       "        vertical-align: top;\n",
       "    }\n",
       "\n",
       "    .dataframe thead th {\n",
       "        text-align: right;\n",
       "    }\n",
       "</style>\n",
       "<table border=\"1\" class=\"dataframe\">\n",
       "  <thead>\n",
       "    <tr style=\"text-align: right;\">\n",
       "      <th></th>\n",
       "      <th>model</th>\n",
       "      <th>MSE</th>\n",
       "    </tr>\n",
       "  </thead>\n",
       "  <tbody>\n",
       "    <tr>\n",
       "      <th>0</th>\n",
       "      <td>Lstm RNN</td>\n",
       "      <td>0.792567</td>\n",
       "    </tr>\n",
       "    <tr>\n",
       "      <th>0</th>\n",
       "      <td>GRU RNN</td>\n",
       "      <td>0.966472</td>\n",
       "    </tr>\n",
       "  </tbody>\n",
       "</table>\n",
       "</div>"
      ],
      "text/plain": [
       "      model       MSE\n",
       "0  Lstm RNN  0.792567\n",
       "0   GRU RNN  0.966472"
      ]
     },
     "execution_count": 224,
     "metadata": {},
     "output_type": "execute_result"
    }
   ],
   "source": [
    "performance = pd.concat([performance, pd.DataFrame({'model':\"GRU RNN\", 'MSE': gru_mse}, index=[0])])\n",
    "performance"
   ]
  },
  {
   "cell_type": "code",
   "execution_count": 225,
   "metadata": {},
   "outputs": [
    {
     "data": {
      "text/html": [
       "<div>\n",
       "<style scoped>\n",
       "    .dataframe tbody tr th:only-of-type {\n",
       "        vertical-align: middle;\n",
       "    }\n",
       "\n",
       "    .dataframe tbody tr th {\n",
       "        vertical-align: top;\n",
       "    }\n",
       "\n",
       "    .dataframe thead th {\n",
       "        text-align: right;\n",
       "    }\n",
       "</style>\n",
       "<table border=\"1\" class=\"dataframe\">\n",
       "  <thead>\n",
       "    <tr style=\"text-align: right;\">\n",
       "      <th></th>\n",
       "      <th>model</th>\n",
       "      <th>MSE</th>\n",
       "    </tr>\n",
       "  </thead>\n",
       "  <tbody>\n",
       "    <tr>\n",
       "      <th>0</th>\n",
       "      <td>Lstm RNN</td>\n",
       "      <td>0.792567</td>\n",
       "    </tr>\n",
       "    <tr>\n",
       "      <th>0</th>\n",
       "      <td>GRU RNN</td>\n",
       "      <td>0.966472</td>\n",
       "    </tr>\n",
       "  </tbody>\n",
       "</table>\n",
       "</div>"
      ],
      "text/plain": [
       "      model       MSE\n",
       "0  Lstm RNN  0.792567\n",
       "0   GRU RNN  0.966472"
      ]
     },
     "execution_count": 225,
     "metadata": {},
     "output_type": "execute_result"
    }
   ],
   "source": [
    "performance.sort_values(by='MSE')"
   ]
  },
  {
   "attachments": {},
   "cell_type": "markdown",
   "metadata": {},
   "source": [
    "From the above results we can say that mean squared error is less for LSTM model than GRU .so Lstm is better performing than GRU. Even from the graphs we see that Lstm has better results than GRU."
   ]
  }
 ],
 "metadata": {
  "kernelspec": {
   "display_name": "tf310",
   "language": "python",
   "name": "python3"
  },
  "language_info": {
   "codemirror_mode": {
    "name": "ipython",
    "version": 3
   },
   "file_extension": ".py",
   "mimetype": "text/x-python",
   "name": "python",
   "nbconvert_exporter": "python",
   "pygments_lexer": "ipython3",
   "version": "3.9.13"
  },
  "orig_nbformat": 4
 },
 "nbformat": 4,
 "nbformat_minor": 2
}
